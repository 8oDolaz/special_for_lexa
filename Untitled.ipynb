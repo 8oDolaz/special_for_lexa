{
 "cells": [
  {
   "cell_type": "code",
   "execution_count": 1,
   "id": "descending-livestock",
   "metadata": {},
   "outputs": [],
   "source": [
    "import matplotlib.pyplot as plt\n",
    "import numpy as np\n",
    "import pandas as pd"
   ]
  },
  {
   "cell_type": "code",
   "execution_count": 2,
   "id": "residential-wildlife",
   "metadata": {},
   "outputs": [],
   "source": [
    "with open('АмплитудаКалибровка.txt', 'r') as file:\n",
    "    dataset_raw = file.read()"
   ]
  },
  {
   "cell_type": "code",
   "execution_count": 3,
   "id": "comparable-ocean",
   "metadata": {},
   "outputs": [],
   "source": [
    "dataset_raw = dataset_raw.split('\\n')"
   ]
  },
  {
   "cell_type": "code",
   "execution_count": 4,
   "id": "bacterial-fruit",
   "metadata": {},
   "outputs": [],
   "source": [
    "dataset_raw = [\n",
    "    number.replace(',', '.').split('\\t') for number in dataset_raw\n",
    "][:-1]"
   ]
  },
  {
   "cell_type": "code",
   "execution_count": 5,
   "id": "authentic-arnold",
   "metadata": {},
   "outputs": [],
   "source": [
    "dataset = []\n",
    "for line_i, line in enumerate(dataset_raw):\n",
    "    dataset.append([])\n",
    "    for value in line:\n",
    "        dataset[line_i].append(float(value))"
   ]
  },
  {
   "cell_type": "code",
   "execution_count": 45,
   "id": "incorporated-romania",
   "metadata": {},
   "outputs": [],
   "source": [
    "def average(x: float, y: float):\n",
    "    return (x + y) / 2\n",
    "\n",
    "def new_wave(w1: list, w2: list):\n",
    "    wave = []\n",
    "    for value in range(len(w1)):\n",
    "        wave.append(average(w1[value], w2[value]))\n",
    "    \n",
    "    return wave\n",
    "\n",
    "def new_waves(ds: list, biggest: tuple):\n",
    "    new = []\n",
    "    for line in range(len(ds)):\n",
    "        if line != biggest[0] and line != biggest[1]:\n",
    "            new.append(ds[line])\n",
    "    \n",
    "    new.append(\n",
    "        new_wave(ds[biggest[0]], ds[biggest[1]])\n",
    "    )\n",
    "    \n",
    "    return new\n",
    "    \n",
    "def get_biggest_match(pirson):\n",
    "    biggest_match = 0, None, None\n",
    "    for wave_i, wave in enumerate(pirson):\n",
    "        for coef_i, coef in enumerate(wave):\n",
    "            if wave_i != coef_i:\n",
    "                if biggest_match[0] < coef:\n",
    "                    biggest_match = coef, wave_i, coef_i\n",
    "\n",
    "    return biggest_match\n",
    "\n",
    "def pirson_coef(waves: list):\n",
    "    return np.corrcoef(waves)"
   ]
  },
  {
   "cell_type": "code",
   "execution_count": 66,
   "id": "breathing-stomach",
   "metadata": {},
   "outputs": [],
   "source": [
    "def output(ds):\n",
    "    pirson = pirson_coef(ds)\n",
    "    result = get_biggest_match(pirson)\n",
    "    ds = new_waves(ds, (result[1], result[2]))\n",
    "    \n",
    "    if len(ds) == 4:\n",
    "        return ds\n",
    "    \n",
    "    return output(ds)"
   ]
  },
  {
   "cell_type": "code",
   "execution_count": 62,
   "id": "broke-first",
   "metadata": {},
   "outputs": [],
   "source": [
    "final = output(dataset)"
   ]
  },
  {
   "cell_type": "code",
   "execution_count": null,
   "id": "industrial-lotus",
   "metadata": {},
   "outputs": [],
   "source": []
  }
 ],
 "metadata": {
  "kernelspec": {
   "display_name": "Python 3",
   "language": "python",
   "name": "python3"
  },
  "language_info": {
   "codemirror_mode": {
    "name": "ipython",
    "version": 3
   },
   "file_extension": ".py",
   "mimetype": "text/x-python",
   "name": "python",
   "nbconvert_exporter": "python",
   "pygments_lexer": "ipython3",
   "version": "3.8.5"
  }
 },
 "nbformat": 4,
 "nbformat_minor": 5
}
