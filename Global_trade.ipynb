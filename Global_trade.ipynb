{
 "cells": [
  {
   "cell_type": "code",
   "execution_count": 39,
   "metadata": {},
   "outputs": [],
   "source": [
    "import pandas as pd"
   ]
  },
  {
   "cell_type": "code",
   "execution_count": 40,
   "metadata": {},
   "outputs": [],
   "source": [
    "def add_product(product_info, df):\n",
    "    product_info_list = product_info.split(' ')\n",
    "    df = df.append({'product': product_info_list[0],\n",
    "                    'country':product_info_list[1],\n",
    "                    'price_kg':float(product_info_list[2]),\n",
    "                    'available_kg':float(product_info_list[3]),\n",
    "                    'total_price': (float(product_info_list[2])*float(product_info_list[3]))},\n",
    "                    ignore_index = True)\n",
    "\n",
    "    return df\n",
    "\n",
    "def print_by_country(df, country):\n",
    "    print(df[(df['country'] == country)])\n",
    "\n",
    "def delete_product(df, product):\n",
    "    df = df[(df['product'] != product)]\n",
    "    return df"
   ]
  },
  {
   "cell_type": "code",
   "execution_count": 41,
   "metadata": {
    "colab": {
     "base_uri": "https://localhost:8080/",
     "height": 49
    },
    "id": "wrPWXn-g4lRC",
    "outputId": "f3056292-da64-479c-d154-7dc75470a523"
   },
   "outputs": [],
   "source": [
    "products = ['apples', 'bananas', 'pears', 'peaches']\n",
    "country = ['New Zealand', 'Equador', 'China', 'China']\n",
    "price = [161.3, 48.5, 57.0, 120.1]\n",
    "amount = [34.5, 21.2, 31.0, 12.1]\n",
    "df = pd.DataFrame(columns=['product', 'country', 'price_kg', 'available_kg'])"
   ]
  },
  {
   "cell_type": "code",
   "execution_count": 42,
   "metadata": {
    "id": "lOlB9PDR6kQd"
   },
   "outputs": [],
   "source": [
    "df['product'] = products\n",
    "df['country'] = country\n",
    "df['price_kg'] = price\n",
    "df['available_kg'] = amount"
   ]
  },
  {
   "cell_type": "code",
   "execution_count": 43,
   "metadata": {
    "colab": {
     "base_uri": "https://localhost:8080/",
     "height": 173
    },
    "id": "yV3PwTq97BkB",
    "outputId": "fec3505a-39ff-4657-9f56-b4233a0e513a"
   },
   "outputs": [],
   "source": [
    "df['total_price'] = df['price_kg'] * df['available_kg']"
   ]
  },
  {
   "cell_type": "code",
   "execution_count": 44,
   "metadata": {
    "colab": {
     "base_uri": "https://localhost:8080/",
     "height": 204
    },
    "id": "5WJ2tNJt-MOu",
    "outputId": "7edee443-4162-428b-8fb1-4f1996b903e8"
   },
   "outputs": [],
   "source": [
    "df = add_product('strawberry Russia 264.2 21.0',  df)"
   ]
  },
  {
   "cell_type": "code",
   "execution_count": 45,
   "metadata": {
    "colab": {
     "base_uri": "https://localhost:8080/",
     "height": 204
    },
    "id": "TTVZYXFBBSYw",
    "outputId": "04755204-5eb6-423d-f4b2-436c4aa28784"
   },
   "outputs": [
    {
     "data": {
      "text/html": [
       "<div>\n",
       "<style scoped>\n",
       "    .dataframe tbody tr th:only-of-type {\n",
       "        vertical-align: middle;\n",
       "    }\n",
       "\n",
       "    .dataframe tbody tr th {\n",
       "        vertical-align: top;\n",
       "    }\n",
       "\n",
       "    .dataframe thead th {\n",
       "        text-align: right;\n",
       "    }\n",
       "</style>\n",
       "<table border=\"1\" class=\"dataframe\">\n",
       "  <thead>\n",
       "    <tr style=\"text-align: right;\">\n",
       "      <th></th>\n",
       "      <th>product</th>\n",
       "      <th>country</th>\n",
       "      <th>price_kg</th>\n",
       "      <th>available_kg</th>\n",
       "      <th>total_price</th>\n",
       "    </tr>\n",
       "  </thead>\n",
       "  <tbody>\n",
       "    <tr>\n",
       "      <th>0</th>\n",
       "      <td>apples</td>\n",
       "      <td>New Zealand</td>\n",
       "      <td>161.3</td>\n",
       "      <td>34.5</td>\n",
       "      <td>5564.85</td>\n",
       "    </tr>\n",
       "    <tr>\n",
       "      <th>1</th>\n",
       "      <td>bananas</td>\n",
       "      <td>Equador</td>\n",
       "      <td>48.5</td>\n",
       "      <td>21.2</td>\n",
       "      <td>1028.20</td>\n",
       "    </tr>\n",
       "    <tr>\n",
       "      <th>2</th>\n",
       "      <td>pears</td>\n",
       "      <td>China</td>\n",
       "      <td>57.0</td>\n",
       "      <td>31.0</td>\n",
       "      <td>1767.00</td>\n",
       "    </tr>\n",
       "    <tr>\n",
       "      <th>3</th>\n",
       "      <td>peaches</td>\n",
       "      <td>China</td>\n",
       "      <td>120.1</td>\n",
       "      <td>12.1</td>\n",
       "      <td>1453.21</td>\n",
       "    </tr>\n",
       "    <tr>\n",
       "      <th>4</th>\n",
       "      <td>strawberry</td>\n",
       "      <td>Russia</td>\n",
       "      <td>264.2</td>\n",
       "      <td>21.0</td>\n",
       "      <td>5548.20</td>\n",
       "    </tr>\n",
       "  </tbody>\n",
       "</table>\n",
       "</div>"
      ],
      "text/plain": [
       "      product      country  price_kg  available_kg  total_price\n",
       "0      apples  New Zealand     161.3          34.5      5564.85\n",
       "1     bananas      Equador      48.5          21.2      1028.20\n",
       "2       pears        China      57.0          31.0      1767.00\n",
       "3     peaches        China     120.1          12.1      1453.21\n",
       "4  strawberry       Russia     264.2          21.0      5548.20"
      ]
     },
     "execution_count": 45,
     "metadata": {},
     "output_type": "execute_result"
    }
   ],
   "source": [
    "df"
   ]
  },
  {
   "cell_type": "code",
   "execution_count": 46,
   "metadata": {},
   "outputs": [],
   "source": [
    "df = delete_product(df, 'apples')"
   ]
  },
  {
   "cell_type": "code",
   "execution_count": 47,
   "metadata": {},
   "outputs": [
    {
     "data": {
      "text/html": [
       "<div>\n",
       "<style scoped>\n",
       "    .dataframe tbody tr th:only-of-type {\n",
       "        vertical-align: middle;\n",
       "    }\n",
       "\n",
       "    .dataframe tbody tr th {\n",
       "        vertical-align: top;\n",
       "    }\n",
       "\n",
       "    .dataframe thead th {\n",
       "        text-align: right;\n",
       "    }\n",
       "</style>\n",
       "<table border=\"1\" class=\"dataframe\">\n",
       "  <thead>\n",
       "    <tr style=\"text-align: right;\">\n",
       "      <th></th>\n",
       "      <th>product</th>\n",
       "      <th>country</th>\n",
       "      <th>price_kg</th>\n",
       "      <th>available_kg</th>\n",
       "      <th>total_price</th>\n",
       "    </tr>\n",
       "  </thead>\n",
       "  <tbody>\n",
       "    <tr>\n",
       "      <th>1</th>\n",
       "      <td>bananas</td>\n",
       "      <td>Equador</td>\n",
       "      <td>48.5</td>\n",
       "      <td>21.2</td>\n",
       "      <td>1028.20</td>\n",
       "    </tr>\n",
       "    <tr>\n",
       "      <th>2</th>\n",
       "      <td>pears</td>\n",
       "      <td>China</td>\n",
       "      <td>57.0</td>\n",
       "      <td>31.0</td>\n",
       "      <td>1767.00</td>\n",
       "    </tr>\n",
       "    <tr>\n",
       "      <th>3</th>\n",
       "      <td>peaches</td>\n",
       "      <td>China</td>\n",
       "      <td>120.1</td>\n",
       "      <td>12.1</td>\n",
       "      <td>1453.21</td>\n",
       "    </tr>\n",
       "    <tr>\n",
       "      <th>4</th>\n",
       "      <td>strawberry</td>\n",
       "      <td>Russia</td>\n",
       "      <td>264.2</td>\n",
       "      <td>21.0</td>\n",
       "      <td>5548.20</td>\n",
       "    </tr>\n",
       "  </tbody>\n",
       "</table>\n",
       "</div>"
      ],
      "text/plain": [
       "      product  country  price_kg  available_kg  total_price\n",
       "1     bananas  Equador      48.5          21.2      1028.20\n",
       "2       pears    China      57.0          31.0      1767.00\n",
       "3     peaches    China     120.1          12.1      1453.21\n",
       "4  strawberry   Russia     264.2          21.0      5548.20"
      ]
     },
     "execution_count": 47,
     "metadata": {},
     "output_type": "execute_result"
    }
   ],
   "source": [
    "df"
   ]
  }
 ],
 "metadata": {
  "colab": {
   "name": "Untitled0.ipynb",
   "provenance": []
  },
  "kernelspec": {
   "display_name": "Python 3",
   "language": "python",
   "name": "python3"
  },
  "language_info": {
   "codemirror_mode": {
    "name": "ipython",
    "version": 3
   },
   "file_extension": ".py",
   "mimetype": "text/x-python",
   "name": "python",
   "nbconvert_exporter": "python",
   "pygments_lexer": "ipython3",
   "version": "3.8.5"
  }
 },
 "nbformat": 4,
 "nbformat_minor": 1
}
