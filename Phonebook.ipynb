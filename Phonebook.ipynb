{
 "cells": [
  {
   "cell_type": "code",
   "execution_count": 14,
   "id": "10b948fc",
   "metadata": {},
   "outputs": [],
   "source": [
    "import pandas as pd"
   ]
  },
  {
   "cell_type": "code",
   "execution_count": 15,
   "id": "f8c3fa8b",
   "metadata": {},
   "outputs": [],
   "source": [
    "def main():\n",
    "    columns = ['фамилия', 'имя', 'телефон', 'e-mail']\n",
    "    dataframe = pd.DataFrame(columns=columns)\n",
    "    \n",
    "    commands = ['print', 'add', 'delete', 'search', 'exit']\n",
    "    print(f'Доступны следующие команды: {\", \".join(commands)}')\n",
    "    \n",
    "    while True:\n",
    "        command = input('Введите команду: ').lower()\n",
    "\n",
    "        if command in commands:\n",
    "            if command == 'print':\n",
    "                print(dataframe.to_string())\n",
    "                \n",
    "            elif command == 'add':\n",
    "                person_info = input(f'Введите это через пробел: {\", \".join(columns)}:').split()\n",
    "                dataframe = dataframe.append(\n",
    "                    dict((col, person_info[col_i])\n",
    "                         for col_i, col in enumerate(columns)),\n",
    "                    ignore_index=True)\n",
    "                \n",
    "            elif command == 'delete':\n",
    "                surname = input('Введите фамилию: ')\n",
    "                dataframe = dataframe[(dataframe['фамилия'] != surname)]\n",
    "                \n",
    "            elif command == 'search':\n",
    "                surnames = dataframe['фамилия'].tolist()\n",
    "                guess = input('Введите предположение: ').capitalize()\n",
    "                for sn in surnames:\n",
    "                    if sn.count(guess):\n",
    "                        print(dataframe[(dataframe['фамилия'] == sn)])\n",
    "                    \n",
    "            elif command == 'exit':\n",
    "                return print('Удачи!')\n",
    "        else:\n",
    "            print('Это не команда(')"
   ]
  },
  {
   "cell_type": "code",
   "execution_count": 16,
   "id": "c367d654",
   "metadata": {},
   "outputs": [
    {
     "name": "stdout",
     "output_type": "stream",
     "text": [
      "Доступны следующие команды: print, add, delete, search, exit\n",
      "Введите команду: print\n",
      "Empty DataFrame\n",
      "Columns: [фамилия, имя, телефон, e-mail]\n",
      "Index: []\n",
      "Введите команду: add\n",
      "Введите это через пробел: фамилия, имя, телефон, e-mail:Заграничнов Глеб 3030 a@b.com\n",
      "Введите команду: print\n",
      "       фамилия   имя телефон   e-mail\n",
      "0  Заграничнов  Глеб    3030  a@b.com\n",
      "Введите команду: search\n",
      "Введите преположение: Загр\n",
      "       фамилия   имя телефон   e-mail\n",
      "0  Заграничнов  Глеб    3030  a@b.com\n",
      "Введите команду: delete\n",
      "Введите фамилию: Заграничнов\n",
      "Введите команду: print\n",
      "Empty DataFrame\n",
      "Columns: [фамилия, имя, телефон, e-mail]\n",
      "Index: []\n",
      "Введите команду: exit\n",
      "Удачи!\n"
     ]
    }
   ],
   "source": [
    "if __name__ == '__main__':\n",
    "    main()"
   ]
  },
  {
   "cell_type": "code",
   "execution_count": null,
   "id": "630426ce",
   "metadata": {},
   "outputs": [],
   "source": []
  }
 ],
 "metadata": {
  "kernelspec": {
   "display_name": "Python 3",
   "language": "python",
   "name": "python3"
  },
  "language_info": {
   "codemirror_mode": {
    "name": "ipython",
    "version": 3
   },
   "file_extension": ".py",
   "mimetype": "text/x-python",
   "name": "python",
   "nbconvert_exporter": "python",
   "pygments_lexer": "ipython3",
   "version": "3.8.5"
  }
 },
 "nbformat": 4,
 "nbformat_minor": 5
}
