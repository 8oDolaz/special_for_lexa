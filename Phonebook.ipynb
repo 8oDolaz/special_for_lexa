{
 "cells": [
  {
   "cell_type": "code",
   "execution_count": 10,
   "id": "0e8c8054",
   "metadata": {},
   "outputs": [],
   "source": [
    "import pandas as pd"
   ]
  },
  {
   "cell_type": "code",
   "execution_count": 52,
   "id": "aa06716b",
   "metadata": {},
   "outputs": [],
   "source": [
    "def main():\n",
    "    dataframe = pd.DataFrame(columns=['surname', 'name', 'phonenumber', 'e-mail'])\n",
    "    commands = ['print', 'add', 'delete', 'search', 'exit']\n",
    "    print(f'Доступны следующие команды: {str(commands).replace(\"[\", \"\").replace(\"]\", \"\")}')\n",
    "    \n",
    "    while True:\n",
    "        command = str(input('Введите команду: ')).lower()\n",
    "\n",
    "        if command in commands:\n",
    "            if command == 'print':\n",
    "                print(dataframe.to_string())\n",
    "            elif command == 'add':\n",
    "                person_info = str(input('Введите фамилию, имя, телефон и e-mail человека через пробел: ')).split()\n",
    "                dataframe = dataframe.append({\n",
    "                    'surname': person_info[0],\n",
    "                    'name': person_info[1],\n",
    "                    'phonenumber': person_info[2],\n",
    "                    'e-mail': person_info[3]\n",
    "                }, ignore_index=True)\n",
    "            elif command == 'delete':\n",
    "                surname = str(input('Введите фамилию: '))\n",
    "                dataframe = dataframe[(dataframe['surname'] != surname)]\n",
    "            elif command == 'search':\n",
    "                surnames = list(dataframe['surname'])\n",
    "                guess = str(input('Введите преположение: '))\n",
    "                surnames = [sn for sn in surnames if sn.count(guess) != 0]\n",
    "                for sn in surnames:\n",
    "                    print(dataframe[(dataframe['surname'] == sn)])\n",
    "            elif command == 'exit':\n",
    "                return 'Удачи!'\n",
    "        else:\n",
    "            print('Это не команда(')"
   ]
  },
  {
   "cell_type": "code",
   "execution_count": 53,
   "id": "27780b7f",
   "metadata": {},
   "outputs": [
    {
     "name": "stdout",
     "output_type": "stream",
     "text": [
      "Доступны следующие команды: 'print', 'add', 'delete', 'search', 'exit'\n",
      "Введите команду: add\n",
      "Введите фамилию, имя, телефон и e-mail человека через пробел: Заграничнов Глеб 3299 a@b.com\n",
      "Введите команду: print\n",
      "       surname  name phonenumber   e-mail\n",
      "0  Заграничнов  Глеб        3299  a@b.com\n",
      "Введите команду: search\n",
      "Введите преположение: Загр\n",
      "       surname  name phonenumber   e-mail\n",
      "0  Заграничнов  Глеб        3299  a@b.com\n",
      "Введите команду: add\n",
      "Введите фамилию, имя, телефон и e-mail человека через пробел: Поздняков Глеб 3299 a@b.com\n",
      "Введите команду: print\n",
      "       surname  name phonenumber   e-mail\n",
      "0  Заграничнов  Глеб        3299  a@b.com\n",
      "1    Поздняков  Глеб        3299  a@b.com\n",
      "Введите команду: search\n",
      "Введите преположение: Загр\n",
      "       surname  name phonenumber   e-mail\n",
      "0  Заграничнов  Глеб        3299  a@b.com\n",
      "Введите команду: exit\n"
     ]
    }
   ],
   "source": [
    "if __name__ == '__main__':\n",
    "    main()"
   ]
  }
 ],
 "metadata": {
  "kernelspec": {
   "display_name": "Python 3",
   "language": "python",
   "name": "python3"
  },
  "language_info": {
   "codemirror_mode": {
    "name": "ipython",
    "version": 3
   },
   "file_extension": ".py",
   "mimetype": "text/x-python",
   "name": "python",
   "nbconvert_exporter": "python",
   "pygments_lexer": "ipython3",
   "version": "3.8.5"
  }
 },
 "nbformat": 4,
 "nbformat_minor": 5
}
