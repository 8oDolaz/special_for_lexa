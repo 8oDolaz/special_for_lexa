{
 "cells": [
  {
   "cell_type": "code",
   "execution_count": 1,
   "id": "10b948fc",
   "metadata": {},
   "outputs": [],
   "source": [
    "import pandas as pd"
   ]
  },
  {
   "cell_type": "code",
   "execution_count": 4,
   "id": "f8c3fa8b",
   "metadata": {},
   "outputs": [],
   "source": [
    "def main():\n",
    "    columns = ['фамилия', 'имя', 'телефон', 'почта']\n",
    "    dataframe = pd.DataFrame(columns=columns)\n",
    "    \n",
    "    commands = ['print', 'add', 'delete', 'search', 'exit']\n",
    "    print(f'Доступны следующие команды: {str(commands).replace(\"[\", \"\").replace(\"]\", \"\")}')\n",
    "    \n",
    "    while True:\n",
    "        command = str(input('Введите команду: ')).lower()\n",
    "\n",
    "        if command in commands:\n",
    "            if command == 'print':\n",
    "                print(dataframe.to_string())\n",
    "                \n",
    "            elif command == 'add':\n",
    "                person_info = str(input('Введите фамилию, имя, телефон и e-mail человека через пробел: ')).split()\n",
    "                dataframe = dataframe.append(\n",
    "                    dict(\n",
    "                        (col, person_info[col_i])\n",
    "                        for col_i, col in enumerate(columns)\n",
    "                    ),\n",
    "                    ignore_index=True)\n",
    "                \n",
    "            elif command == 'delete':\n",
    "                surname = str(input('Введите фамилию: '))\n",
    "                dataframe = dataframe[(dataframe['surname'] != surname)]\n",
    "                \n",
    "            elif command == 'search':\n",
    "                surnames = list(dataframe['surname'])\n",
    "                guess = str(input('Введите преположение: '))\n",
    "                surnames = [sn for sn in surnames if sn.count(guess) != 0]\n",
    "                for sn in surnames:\n",
    "                    print(dataframe[(dataframe['surname'] == sn)])\n",
    "                    \n",
    "            elif command == 'exit':\n",
    "                return 'Удачи!'\n",
    "        else:\n",
    "            print('Это не команда(')"
   ]
  },
  {
   "cell_type": "code",
   "execution_count": null,
   "id": "d855ba33",
   "metadata": {},
   "outputs": [],
   "source": [
    "if __name__ == '__main__':\n",
    "    main()"
   ]
  }
 ],
 "metadata": {
  "kernelspec": {
   "display_name": "Python 3",
   "language": "python",
   "name": "python3"
  },
  "language_info": {
   "codemirror_mode": {
    "name": "ipython",
    "version": 3
   },
   "file_extension": ".py",
   "mimetype": "text/x-python",
   "name": "python",
   "nbconvert_exporter": "python",
   "pygments_lexer": "ipython3",
   "version": "3.8.5"
  }
 },
 "nbformat": 4,
 "nbformat_minor": 5
}
