{
 "cells": [
  {
   "cell_type": "code",
   "execution_count": 1,
   "id": "0e06c10e",
   "metadata": {},
   "outputs": [],
   "source": [
    "import numpy as np"
   ]
  },
  {
   "cell_type": "code",
   "execution_count": 43,
   "id": "1cd70fd8",
   "metadata": {},
   "outputs": [],
   "source": [
    "def main():\n",
    "    y1, x1 = map(int, input().split())\n",
    "    y2, x2 = map(int, input().split())\n",
    "\n",
    "    matrix = get_matrix(x1, y1), get_matrix(x2, y2)\n",
    "\n",
    "    return np.dot(matrix[1], matrix[0])\n",
    "\n",
    "\n",
    "def get_matrix(x: int, y: int):\n",
    "    matrix = []\n",
    "    for _ in range(x):\n",
    "        values = list(map(float, input().split()))\n",
    "        matrix.append(values)\n",
    "\n",
    "    return np.array(matrix)"
   ]
  },
  {
   "cell_type": "code",
   "execution_count": 44,
   "id": "17c62f64",
   "metadata": {},
   "source": [
    "if __name__ == '__main__':\n",
    "    print(main())"
   ]
  }
 ],
 "metadata": {
  "kernelspec": {
   "display_name": "Python 3",
   "language": "python",
   "name": "python3"
  },
  "language_info": {
   "codemirror_mode": {
    "name": "ipython",
    "version": 3
   },
   "file_extension": ".py",
   "mimetype": "text/x-python",
   "name": "python",
   "nbconvert_exporter": "python",
   "pygments_lexer": "ipython3",
   "version": "3.8.5"
  }
 },
 "nbformat": 4,
 "nbformat_minor": 5
}
