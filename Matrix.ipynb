{
 "cells": [
  {
   "cell_type": "code",
   "execution_count": 45,
   "id": "a50d46f3",
   "metadata": {},
   "outputs": [],
   "source": [
    "import numpy as np"
   ]
  },
  {
   "cell_type": "code",
   "execution_count": 46,
   "id": "ab8d41b2",
   "metadata": {},
   "outputs": [],
   "source": [
    "def main():\n",
    "    y1, x1 = map(int, input().split())\n",
    "    y2, x2 = map(int, input().split())\n",
    "\n",
    "    matrix = get_matrix(x1, y1), get_matrix(x2, y2)\n",
    "\n",
    "    return np.dot(matrix[1], matrix[0])\n",
    "\n",
    "\n",
    "def get_matrix(x: int, y: int):\n",
    "    matrix = []\n",
    "    for _ in range(x):\n",
    "        values = list(map(float, input().split()))\n",
    "        matrix.append(values)\n",
    "\n",
    "    return np.array(matrix)"
   ]
  },
  {
   "cell_type": "code",
   "execution_count": 47,
   "id": "c1bb31e6",
   "metadata": {},
   "outputs": [
    {
     "name": "stdout",
     "output_type": "stream",
     "text": [
      "4 2\n",
      "2 4\n",
      "1 8 2.3 7\n",
      "2 8 2.3 0\n",
      "3.2 4\n",
      "2.2 6\n",
      "2 0\n",
      "2 4\n",
      "[[11.2  57.6  16.56 22.4 ]\n",
      " [14.2  65.6  18.86 15.4 ]\n",
      " [ 2.   16.    4.6  14.  ]\n",
      " [10.   48.   13.8  14.  ]]\n"
     ]
    }
   ],
   "source": [
    "if __name__ == '__main__':\n",
    "    print(main())"
   ]
  }
 ],
 "metadata": {
  "kernelspec": {
   "display_name": "Python 3",
   "language": "python",
   "name": "python3"
  },
  "language_info": {
   "codemirror_mode": {
    "name": "ipython",
    "version": 3
   },
   "file_extension": ".py",
   "mimetype": "text/x-python",
   "name": "python",
   "nbconvert_exporter": "python",
   "pygments_lexer": "ipython3",
   "version": "3.8.5"
  }
 },
 "nbformat": 4,
 "nbformat_minor": 5
}
