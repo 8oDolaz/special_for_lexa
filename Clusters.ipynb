{
 "cells": [
  {
   "cell_type": "code",
   "execution_count": 29,
   "id": "descending-livestock",
   "metadata": {},
   "outputs": [],
   "source": [
    "import matplotlib.pyplot as plt\n",
    "import numpy as np"
   ]
  },
  {
   "cell_type": "code",
   "execution_count": 30,
   "id": "solid-throat",
   "metadata": {},
   "outputs": [],
   "source": [
    "with open('АмплитудаКалибровка.txt', 'r') as file:\n",
    "    dataset_raw = file.read()"
   ]
  },
  {
   "cell_type": "code",
   "execution_count": 31,
   "id": "comparable-ocean",
   "metadata": {},
   "outputs": [],
   "source": [
    "dataset_raw = dataset_raw.split('\\n')\n",
    "# разбиваем на волны"
   ]
  },
  {
   "cell_type": "code",
   "execution_count": 32,
   "id": "bacterial-fruit",
   "metadata": {},
   "outputs": [],
   "source": [
    "dataset_raw = [\n",
    "    number.replace(',', '.').split('\\t') for number in dataset_raw\n",
    "][:-1]\n",
    "# заменяем все запятые на точки, чтобы потом перевести в float\n",
    "# разделяем по tab, т.к. это разные значения\n",
    "# [:-1] -- удаляем последний элемент"
   ]
  },
  {
   "cell_type": "code",
   "execution_count": 33,
   "id": "authentic-arnold",
   "metadata": {},
   "outputs": [],
   "source": [
    "dataset = []\n",
    "for wave_i, wave in enumerate(dataset_raw):\n",
    "#     enumerate каждую итерацию возвращает два числа: счетчик и значение\n",
    "#     wave_i = 0; wave = [60.5, ..., 70.4]\n",
    "    dataset.append([]) # создаем новую волну\n",
    "    for value in wave: # проходим по каждой амплитуде\n",
    "        dataset[wave_i].append(float(value))\n",
    "#         для каждой волны добавляем ее амплитуду, но уже в float"
   ]
  },
  {
   "cell_type": "code",
   "execution_count": 34,
   "id": "enabling-short",
   "metadata": {},
   "outputs": [],
   "source": [
    "clusters = [[i] for i in range(len(dataset))]\n",
    "# массив, в котором будет записываться слияние волн"
   ]
  },
  {
   "cell_type": "code",
   "execution_count": 41,
   "id": "a9d4e296",
   "metadata": {},
   "outputs": [
    {
     "ename": "TypeError",
     "evalue": "'int' object is not iterable",
     "output_type": "error",
     "traceback": [
      "\u001b[0;31m---------------------------------------------------------------------------\u001b[0m",
      "\u001b[0;31mTypeError\u001b[0m                                 Traceback (most recent call last)",
      "\u001b[0;32m<ipython-input-41-2e1117eaae1b>\u001b[0m in \u001b[0;36m<module>\u001b[0;34m\u001b[0m\n\u001b[0;32m----> 1\u001b[0;31m new_waves([[0, 9, 13, 11, 17, 21, 22, 1, 23, 25, 3, 5, 24, 10, 18],\n\u001b[0m\u001b[1;32m      2\u001b[0m  \u001b[0;34m[\u001b[0m\u001b[0;36m4\u001b[0m\u001b[0;34m,\u001b[0m \u001b[0;36m7\u001b[0m\u001b[0;34m]\u001b[0m\u001b[0;34m,\u001b[0m\u001b[0;34m\u001b[0m\u001b[0;34m\u001b[0m\u001b[0m\n\u001b[1;32m      3\u001b[0m  \u001b[0;34m[\u001b[0m\u001b[0;36m8\u001b[0m\u001b[0;34m,\u001b[0m \u001b[0;36m14\u001b[0m\u001b[0;34m,\u001b[0m \u001b[0;36m15\u001b[0m\u001b[0;34m,\u001b[0m \u001b[0;36m20\u001b[0m\u001b[0;34m,\u001b[0m \u001b[0;36m16\u001b[0m\u001b[0;34m,\u001b[0m \u001b[0;36m6\u001b[0m\u001b[0;34m,\u001b[0m \u001b[0;36m2\u001b[0m\u001b[0;34m]\u001b[0m\u001b[0;34m,\u001b[0m\u001b[0;34m\u001b[0m\u001b[0;34m\u001b[0m\u001b[0m\n\u001b[1;32m      4\u001b[0m  [12, 19]])\n",
      "\u001b[0;32m<ipython-input-40-92dd7f47efad>\u001b[0m in \u001b[0;36mnew_waves\u001b[0;34m(cl)\u001b[0m\n\u001b[1;32m     45\u001b[0m         \u001b[0msummary\u001b[0m \u001b[0;34m=\u001b[0m \u001b[0;36m0\u001b[0m\u001b[0;34m\u001b[0m\u001b[0;34m\u001b[0m\u001b[0m\n\u001b[1;32m     46\u001b[0m         \u001b[0;32mfor\u001b[0m \u001b[0mwave\u001b[0m \u001b[0;32min\u001b[0m \u001b[0mcluster\u001b[0m\u001b[0;34m:\u001b[0m\u001b[0;34m\u001b[0m\u001b[0;34m\u001b[0m\u001b[0m\n\u001b[0;32m---> 47\u001b[0;31m             \u001b[0;32mfor\u001b[0m \u001b[0mvalue\u001b[0m \u001b[0;32min\u001b[0m \u001b[0mwave\u001b[0m\u001b[0;34m:\u001b[0m\u001b[0;34m\u001b[0m\u001b[0;34m\u001b[0m\u001b[0m\n\u001b[0m\u001b[1;32m     48\u001b[0m                 \u001b[0msummary\u001b[0m \u001b[0;34m+=\u001b[0m \u001b[0mdataset\u001b[0m\u001b[0;34m[\u001b[0m\u001b[0mwave\u001b[0m\u001b[0;34m]\u001b[0m\u001b[0;34m[\u001b[0m\u001b[0mvalue\u001b[0m\u001b[0;34m]\u001b[0m\u001b[0;34m\u001b[0m\u001b[0;34m\u001b[0m\u001b[0m\n\u001b[1;32m     49\u001b[0m         \u001b[0mnew\u001b[0m\u001b[0;34m.\u001b[0m\u001b[0mappend\u001b[0m\u001b[0;34m(\u001b[0m\u001b[0msummary\u001b[0m \u001b[0;34m/\u001b[0m \u001b[0mlen\u001b[0m\u001b[0;34m(\u001b[0m\u001b[0mcluster\u001b[0m\u001b[0;34m)\u001b[0m\u001b[0;34m)\u001b[0m\u001b[0;34m\u001b[0m\u001b[0;34m\u001b[0m\u001b[0m\n",
      "\u001b[0;31mTypeError\u001b[0m: 'int' object is not iterable"
     ]
    }
   ],
   "source": [
    "new_waves([[0, 9, 13, 11, 17, 21, 22, 1, 23, 25, 3, 5, 24, 10, 18],\n",
    " [4, 7],\n",
    " [8, 14, 15, 20, 16, 6, 2],\n",
    " [12, 19]])"
   ]
  },
  {
   "cell_type": "code",
   "execution_count": 40,
   "id": "incorporated-romania",
   "metadata": {},
   "outputs": [],
   "source": [
    "def average(x: float, y: float):\n",
    "#     среднее арифметическое\n",
    "    return (x + y) / 2\n",
    "\n",
    "def pirson_coef(waves: list):\n",
    "#     коэффицент Пирсона\n",
    "    return np.corrcoef(waves)\n",
    "\n",
    "def new_wave(w1: list, w2: list):\n",
    "#     возвращает новую волну, которая создается путем\n",
    "#     получения среднего значения между каждым элементом двух данных\n",
    "#     x1 = [1, 2, 3]\n",
    "#     x2 = [6, 7, 8]\n",
    "#     new_wave = [3.5, 4.5, 5.5]\n",
    "\n",
    "    wave = []  # новая волна\n",
    "    for value in range(len(w1)):\n",
    "#         проходим по каждой амплитуде каждой волны\n",
    "        wave.append(average(w1[value], w2[value]))\n",
    "#         в новую волну записываем среднее значение\n",
    "#         каждой из амплитуд 2 предыдуших волн\n",
    "    \n",
    "    return wave\n",
    "\n",
    "# def new_waves(ds: list, biggest: tuple):\n",
    "# #     возвращает новых список волн, длинна которого на 1 меньше,\n",
    "# #     т.к. два наибольших совпадения сливаются в одну волну в\n",
    "# #     функции new_wave()\n",
    "    \n",
    "#     new = []  # новые волны\n",
    "#     for line in range(len(ds)):  # все элементы текущих волн\n",
    "#         if line != biggest[0] and line != biggest[1]:\n",
    "# #             если волна текущей итерации не наибольшее совпадение\n",
    "#             new.append(ds[line])\n",
    "    \n",
    "#     new.append(\n",
    "#         new_wave(ds[biggest[0]], ds[biggest[1]])\n",
    "#     )  # добавляем только что созданную волну\n",
    "    \n",
    "#     return new\n",
    "\n",
    "def new_waves(cl: list):\n",
    "    new = []\n",
    "    for cluster in cl:\n",
    "        for value in range(len(dataset[0]))\n",
    "        summary = 0\n",
    "        for wave in cluster:\n",
    "                summary += dataset[wave][value]\n",
    "        new.append(summary / len(cluster))\n",
    "        \n",
    "    return new\n",
    "    \n",
    "def get_biggest_match(pirson):\n",
    "#     возвращает tuple, описанный ниже\n",
    "#     пример -- (0.999944393, 21, 22)\n",
    "    \n",
    "    biggest_match = 0, None, None\n",
    "#     первое значение -- коэффицент, насколько сопадают волны\n",
    "#     второе -- первая волна, с наибольшим совпадением\n",
    "#     третье -- вторая волна, с наибольшим совпадением\n",
    "    for wave_i, wave in enumerate(pirson):\n",
    "#         проходим по массиву с коэффицентами\n",
    "        for coef_i, coef in enumerate(wave):\n",
    "#             проходим по всем коэффицентам\n",
    "            if wave_i != coef_i:\n",
    "#                 исключаем диагональ, т.к. значение всегда 1\n",
    "                if biggest_match[0] < coef:\n",
    "#                     если текущее совпадение больше старого максимума\n",
    "                    biggest_match = coef, wave_i, coef_i\n",
    "\n",
    "    return biggest_match\n",
    "\n",
    "def new_cluster(cl, waves):\n",
    "#     возвращает новый массив clusters, который показывает\n",
    "#     какой кластер включает в себя какие волны\n",
    "#     cl = [[1], [2], [3]]\n",
    "#     waves = (0, 2)\n",
    "#     cl = [[1, 3], [2]]\n",
    "    \n",
    "    for wave in cl[waves[1]]:\n",
    "#         добавляем все значения второго кластера в первый\n",
    "        cl[waves[0]].append(wave)\n",
    "    del cl[waves[1]]  # удаляем второй\n",
    "    \n",
    "    return cl"
   ]
  },
  {
   "cell_type": "code",
   "execution_count": 36,
   "id": "breathing-stomach",
   "metadata": {},
   "outputs": [],
   "source": [
    "def output(ds, cl, cluster_len):\n",
    "#     каждую итерацию количество волн и кластеров\n",
    "#     будет становиться меньше на 1, т.к.\n",
    "#     мы соединяем вместе два наибольших совпадения\n",
    "    \n",
    "    pirson = pirson_coef(ds)\n",
    "#     каждый раз заново считаем коэффицент Пирсона\n",
    "    result = get_biggest_match(pirson)\n",
    "#     находим наибольшее совпадение\n",
    "    cl = new_cluster(cl, (result[1], result[2]))\n",
    "#     обновляем кластеры\n",
    "    ds = new_waves(ds, (result[1], result[2]))\n",
    "#     обновляем волны\n",
    "    \n",
    "    if len(ds) == cluster_len:\n",
    "        return ds, cl\n",
    "#         возвращаем итоговые волны и кластеры\n",
    "    \n",
    "    return output(ds, cl, cluster_len)"
   ]
  },
  {
   "cell_type": "code",
   "execution_count": 37,
   "id": "broke-first",
   "metadata": {},
   "outputs": [
    {
     "name": "stdout",
     "output_type": "stream",
     "text": [
      "[[0], [1], [2], [3], [4], [5], [6], [7], [8], [9], [10], [11], [12], [13], [14], [15], [16], [17], [18], [19], [20], [21, 22], [23], [24], [25]]\n",
      "[[0], [1], [2], [3], [4], [5], [6], [7], [8], [9], [10], [11], [12], [13], [14], [15], [16], [17], [18], [19], [20], [21, 22], [23, 25], [24]]\n",
      "[[0], [1], [2], [3, 5], [4], [6], [7], [8], [9], [10], [11], [12], [13], [14], [15], [16], [17], [18], [19], [20], [21, 22], [23, 25], [24]]\n",
      "[[0], [1], [2], [3, 5, 24], [4], [6], [7], [8], [9], [10], [11], [12], [13], [14], [15], [16], [17], [18], [19], [20], [21, 22], [23, 25]]\n",
      "[[0], [1, 23, 25], [2], [3, 5, 24], [4], [6], [7], [8], [9], [10], [11], [12], [13], [14], [15], [16], [17], [18], [19], [20], [21, 22]]\n",
      "[[0], [1, 23, 25], [2], [3, 5, 24], [4], [6], [7], [8], [9], [10], [11], [12], [13], [14], [15, 20], [16], [17], [18], [19], [21, 22]]\n",
      "[[0], [1, 23, 25], [2], [3, 5, 24], [4], [6], [7], [8], [9], [10], [11], [12], [13], [14], [15, 20, 16], [17], [18], [19], [21, 22]]\n",
      "[[0], [1, 23, 25], [2], [3, 5, 24], [4], [6], [7], [8], [9, 13], [10], [11], [12], [14], [15, 20, 16], [17], [18], [19], [21, 22]]\n",
      "[[0], [1, 23, 25, 3, 5, 24], [2], [4], [6], [7], [8], [9, 13], [10], [11], [12], [14], [15, 20, 16], [17], [18], [19], [21, 22]]\n",
      "[[0], [1, 23, 25, 3, 5, 24, 10], [2], [4], [6], [7], [8], [9, 13], [11], [12], [14], [15, 20, 16], [17], [18], [19], [21, 22]]\n",
      "[[0], [1, 23, 25, 3, 5, 24, 10], [2], [4], [6], [7], [8], [9, 13], [11, 17], [12], [14], [15, 20, 16], [18], [19], [21, 22]]\n",
      "[[0], [1, 23, 25, 3, 5, 24, 10], [2], [4], [6], [7], [8], [9, 13], [11, 17], [12, 19], [14], [15, 20, 16], [18], [21, 22]]\n",
      "[[0], [1, 23, 25, 3, 5, 24, 10], [2], [4], [7], [8], [9, 13], [11, 17], [12, 19], [14], [15, 20, 16, 6], [18], [21, 22]]\n",
      "[[0], [1, 23, 25, 3, 5, 24, 10], [2], [4], [7], [8, 14], [9, 13], [11, 17], [12, 19], [15, 20, 16, 6], [18], [21, 22]]\n",
      "[[0], [1, 23, 25, 3, 5, 24, 10], [2], [4], [7], [8, 14], [9, 13, 11, 17], [12, 19], [15, 20, 16, 6], [18], [21, 22]]\n",
      "[[0], [1, 23, 25, 3, 5, 24, 10], [2], [4], [7], [8, 14], [9, 13, 11, 17, 21, 22], [12, 19], [15, 20, 16, 6], [18]]\n",
      "[[0], [1, 23, 25, 3, 5, 24, 10, 18], [2], [4], [7], [8, 14], [9, 13, 11, 17, 21, 22], [12, 19], [15, 20, 16, 6]]\n",
      "[[0], [2], [4], [7], [8, 14], [9, 13, 11, 17, 21, 22, 1, 23, 25, 3, 5, 24, 10, 18], [12, 19], [15, 20, 16, 6]]\n",
      "[[0], [2], [4], [7], [8, 14, 15, 20, 16, 6], [9, 13, 11, 17, 21, 22, 1, 23, 25, 3, 5, 24, 10, 18], [12, 19]]\n",
      "[[0], [4], [7], [8, 14, 15, 20, 16, 6, 2], [9, 13, 11, 17, 21, 22, 1, 23, 25, 3, 5, 24, 10, 18], [12, 19]]\n",
      "[[0, 9, 13, 11, 17, 21, 22, 1, 23, 25, 3, 5, 24, 10, 18], [4], [7], [8, 14, 15, 20, 16, 6, 2], [12, 19]]\n",
      "[[0, 9, 13, 11, 17, 21, 22, 1, 23, 25, 3, 5, 24, 10, 18], [4, 7], [8, 14, 15, 20, 16, 6, 2], [12, 19]]\n"
     ]
    }
   ],
   "source": [
    "final_w, final_c = output(dataset, clusters, 4)\n",
    "# получаем итоговые волны и кластеры"
   ]
  },
  {
   "cell_type": "code",
   "execution_count": 39,
   "id": "f8113aa5",
   "metadata": {},
   "outputs": [
    {
     "data": {
      "text/plain": [
       "[[0, 9, 13, 11, 17, 21, 22, 1, 23, 25, 3, 5, 24, 10, 18],\n",
       " [4, 7],\n",
       " [8, 14, 15, 20, 16, 6, 2],\n",
       " [12, 19]]"
      ]
     },
     "execution_count": 39,
     "metadata": {},
     "output_type": "execute_result"
    }
   ],
   "source": [
    "clusters"
   ]
  },
  {
   "cell_type": "code",
   "execution_count": 26,
   "id": "selective-longer",
   "metadata": {},
   "outputs": [
    {
     "data": {
      "image/png": "[encoded data removed]",
      "text/plain": [
       "<Figure size 432x288 with 4 Axes>"
      ]
     },
     "metadata": {
      "needs_background": "light"
     },
     "output_type": "display_data"
    }
   ],
   "source": [
    "for plot_i, plot in enumerate(final_c):\n",
    "    plt.subplot(len(final_c), 1, plot_i + 1)\n",
    "#     создаем один \"подграфик\"\n",
    "#     первым аргументом указываем, что их будет всего 4\n",
    "#     последним, какой сейчас\n",
    "    for value in plot:\n",
    "#         добавляем туда значение, которых всего 7,\n",
    "#         из-за этого массив первый аргументом,\n",
    "#         и значения амплитуд для отображения\n",
    "        plt.plot([i for i in range(7)], dataset[value])\n",
    "\n",
    "plt.show()  # выводим"
   ]
  }
 ],
 "metadata": {
  "kernelspec": {
   "display_name": "Python 3",
   "language": "python",
   "name": "python3"
  },
  "language_info": {
   "codemirror_mode": {
    "name": "ipython",
    "version": 3
   },
   "file_extension": ".py",
   "mimetype": "text/x-python",
   "name": "python",
   "nbconvert_exporter": "python",
   "pygments_lexer": "ipython3",
   "version": "3.8.5"
  }
 },
 "nbformat": 4,
 "nbformat_minor": 5
}
